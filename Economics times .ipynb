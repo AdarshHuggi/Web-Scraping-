{
 "cells": [
  {
   "cell_type": "code",
   "execution_count": null,
   "metadata": {},
   "outputs": [],
   "source": [
    "!pip3  install selenium\n",
    "!pip3 install webdriver_manager\n",
    "!pip3 install lxml\n",
    "!pip3 install requests\n",
    "!pip3 install beautifulsoup4"
   ]
  },
  {
   "cell_type": "code",
   "execution_count": 69,
   "metadata": {},
   "outputs": [],
   "source": [
    "# importing all required library\n",
    "import pandas as pd\n",
    "\n",
    "import selenium\n",
    "from selenium import webdriver\n",
    "import time\n",
    "from selenium.common.exceptions import NoSuchElementException\n",
    "from selenium.common.exceptions import ElementClickInterceptedException\n",
    "from selenium.webdriver.common.action_chains import ActionChains\n",
    "from selenium.common.exceptions import ElementNotVisibleException\n",
    "from selenium.common.exceptions import StaleElementReferenceException\n",
    "from bs4 import BeautifulSoup\n",
    "import requests\n",
    "\n",
    "options = webdriver.ChromeOptions()\n",
    "options.add_argument('--ignore-certificate-errors')\n",
    "options.add_argument('--ignore-ssl-errors')\n",
    "driver = webdriver.Chrome(\"/usr/lib/chromium-browser/chromedriver\")\n"
   ]
  },
  {
   "cell_type": "code",
   "execution_count": 55,
   "metadata": {},
   "outputs": [],
   "source": [
    "#creating empty list\n",
    "ET = { }\n",
    "ET['Date']=[]\n",
    "ET['Vertical']=[]\n",
    "ET['Author']=[]\n",
    "ET['Headline']=[]\n",
    "ET['Description']=[]\n",
    "ET['Author1']=[]\n",
    "ET_URLs=[]\n",
    "\n",
    "\n",
    "#accessing the webdriver\n",
    "driver.get('https://economictimes.indiatimes.com/archive.cms?from=mdr')\n",
    "time.sleep(2)\n",
    "\n",
    "#selecting the  april month\n",
    "april = driver.find_element_by_xpath(\"//*[@id='pageContent']/div[2]/table/tbody/tr[1]/td/span/div/strong/a[264]\") \n",
    "april.click()\n",
    "\n",
    "\n",
    "#geeting only ten day url links \n",
    "count =5    #Months starts from fifthday(friday)\n",
    "row =2     \n",
    "\n",
    "for i in range(30):\n",
    "    try:\n",
    "        #Accessing the calender days\n",
    "        cal2 = driver.find_element_by_xpath(f\"/html/body/main/section/div[2]/table/tbody/tr[1]/td/span/div/table/tbody/tr[{row}]/td[{count}]/a\")\n",
    "        cal2.click()\n",
    "    except NoSuchElementException:\n",
    "        row +=1\n",
    "        count=1\n",
    "        cal3 = driver.find_element_by_xpath(f\"/html/body/main/section/div[2]/table/tbody/tr[1]/td/span/div/table/tbody/tr[{row}]/td[{count}]/a\")\n",
    "        cal3.click()\n",
    "        \n",
    "    time.sleep(3)\n",
    "   \n",
    "        \n",
    "    #scarping the News URL links \n",
    "    for u in driver.find_elements_by_xpath(\"//*[@id='pageContent']/span/table/tbody/tr/td/ul/li/a\"):\n",
    "        ET_URLs.append(u.get_attribute('href'))\n",
    "        \n",
    "    #increamenting the date by adding 1\n",
    "    count +=1\n",
    "    \n",
    "    #going back to calender page \n",
    "    try:\n",
    "        back_april =driver.find_element_by_xpath(\"//*[@id='pageContent']/span/table[1]/tbody/tr[2]/td/a[3]/b\")\n",
    "        back_april.click()\n",
    "    except NoSuchElementException:\n",
    "        driver.get(\"https://economictimes.indiatimes.com/archive/year-2021,month-4.cms\")\n",
    "        \n",
    "    time.sleep(3)\n",
    "    \n",
    "    \n",
    "    \n",
    "    \n",
    "#SCRAPING THE NEWS DATA\n",
    "    \n",
    "for i in ET_URLs:\n",
    "    try:\n",
    "        driver.get(i)\n",
    "        time.sleep(3)\n",
    "    except TimeoutException:\n",
    "        driver.get(i)\n",
    "        time.sleep(3)\n",
    "        \n",
    "    try:\n",
    "        Date_Time = driver.find_element_by_tag_name(\"time\").text\n",
    "        ET['Date'].append(Date_Time)\n",
    "    except NoSuchElementException:\n",
    "        ET['Date'].append('-')\n",
    "        \n",
    "    try:\n",
    "        vertical = driver.find_element_by_xpath(\"/html/body/main/div[7]/div/span[3]/a\").text\n",
    "        ET['Vertical'].append(vertical)\n",
    "    except NoSuchElementException:\n",
    "        ET['Vertical'].append('-')\n",
    "        \n",
    "    try:\n",
    "        Auth = driver.find_element_by_xpath(\"//div[@class='auth eventDone']/a\").text\n",
    "        ET['Author'].append(Auth)\n",
    "        \n",
    "    except NoSuchElementException:\n",
    "        ET['Author'].append('-')\n",
    "        \n",
    "    try:\n",
    "        Auth1 = driver.find_element_by_xpath(\"/html/body/main/div[10]/div/div/div[2]/div/div[1]/span[1]\").text\n",
    "        ET['Author1'].append(Auth1)\n",
    "        \n",
    "    except NoSuchElementException:\n",
    "        ET['Author1'].append('-')    \n",
    "        \n",
    "    try:\n",
    "        heading = driver.find_element_by_tag_name(\"h1\").text\n",
    "        ET['Headline'].append(heading)\n",
    "    except NoSuchElementException:\n",
    "        ET['Headline'].append('-')\n",
    "        \n",
    "        \n",
    "    try:\n",
    "        News_body= driver.find_element_by_xpath(\"//div[@class='artText medium']\").text\n",
    "        ET['Description'].append(News_body)\n",
    "    except NoSuchElementException:\n",
    "        ET['Description'].append('-')\n",
    "        \n",
    "    \n",
    "        \n"
   ]
  },
  {
   "cell_type": "code",
   "execution_count": null,
   "metadata": {},
   "outputs": [],
   "source": [
    "print(len(ET['Date']),\n",
    "len(ET['Vertical']),\n",
    "len(ET['Author']),\n",
    "len(ET['Headline']),\n",
    "len(ET['Description']))"
   ]
  },
  {
   "cell_type": "code",
   "execution_count": null,
   "metadata": {},
   "outputs": [],
   "source": []
  },
  {
   "cell_type": "code",
   "execution_count": 63,
   "metadata": {},
   "outputs": [],
   "source": [
    "# merging the all scarped data  here \n",
    "import pandas as pd\n",
    "import glob\n",
    "\n",
    "path = r'/home/adarsh/Downloads' # use your path\n",
    "all_files = glob.glob(path + \"/*.csv\")\n",
    "\n",
    "li = []\n",
    "\n",
    "for filename in all_files:\n",
    "    df = pd.read_csv(filename, index_col=None, header=0)\n",
    "    li.append(df)\n",
    "\n",
    "frame = pd.concat(li, axis=0, ignore_index=True)"
   ]
  },
  {
   "cell_type": "code",
   "execution_count": 67,
   "metadata": {},
   "outputs": [
    {
     "data": {
      "text/plain": [
       "10706"
      ]
     },
     "execution_count": 67,
     "metadata": {},
     "output_type": "execute_result"
    }
   ],
   "source": [
    "len(frame)"
   ]
  },
  {
   "cell_type": "code",
   "execution_count": 68,
   "metadata": {},
   "outputs": [],
   "source": [
    "EOI =frame.to_csv('EOI_April_news_data.csv')"
   ]
  },
  {
   "cell_type": "code",
   "execution_count": null,
   "metadata": {},
   "outputs": [],
   "source": []
  },
  {
   "cell_type": "code",
   "execution_count": null,
   "metadata": {},
   "outputs": [],
   "source": []
  },
  {
   "cell_type": "code",
   "execution_count": null,
   "metadata": {},
   "outputs": [],
   "source": []
  },
  {
   "cell_type": "code",
   "execution_count": null,
   "metadata": {},
   "outputs": [],
   "source": []
  },
  {
   "cell_type": "code",
   "execution_count": null,
   "metadata": {},
   "outputs": [],
   "source": []
  },
  {
   "cell_type": "code",
   "execution_count": null,
   "metadata": {},
   "outputs": [],
   "source": []
  },
  {
   "cell_type": "code",
   "execution_count": null,
   "metadata": {},
   "outputs": [],
   "source": []
  },
  {
   "cell_type": "code",
   "execution_count": null,
   "metadata": {},
   "outputs": [],
   "source": []
  },
  {
   "cell_type": "code",
   "execution_count": null,
   "metadata": {},
   "outputs": [],
   "source": []
  },
  {
   "cell_type": "code",
   "execution_count": null,
   "metadata": {},
   "outputs": [],
   "source": []
  },
  {
   "cell_type": "code",
   "execution_count": null,
   "metadata": {},
   "outputs": [],
   "source": []
  },
  {
   "cell_type": "code",
   "execution_count": null,
   "metadata": {},
   "outputs": [],
   "source": []
  },
  {
   "cell_type": "code",
   "execution_count": null,
   "metadata": {},
   "outputs": [],
   "source": []
  }
 ],
 "metadata": {
  "kernelspec": {
   "display_name": "Python 3",
   "language": "python",
   "name": "python3"
  },
  "language_info": {
   "codemirror_mode": {
    "name": "ipython",
    "version": 3
   },
   "file_extension": ".py",
   "mimetype": "text/x-python",
   "name": "python",
   "nbconvert_exporter": "python",
   "pygments_lexer": "ipython3",
   "version": "3.6.9"
  }
 },
 "nbformat": 4,
 "nbformat_minor": 2
}
