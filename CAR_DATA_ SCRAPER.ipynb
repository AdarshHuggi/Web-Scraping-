{
 "cells": [
  {
   "cell_type": "code",
   "execution_count": 57,
   "metadata": {},
   "outputs": [
    {
     "name": "stdout",
     "output_type": "stream",
     "text": [
      "Requirement already satisfied: selenium in c:\\users\\adarsh_huggi\\appdata\\local\\continuum\\anaconda3\\lib\\site-packages (3.141.0)\n",
      "Requirement already satisfied: urllib3 in c:\\users\\adarsh_huggi\\appdata\\local\\continuum\\anaconda3\\lib\\site-packages (from selenium) (1.24.1)\n"
     ]
    }
   ],
   "source": [
    "# importing all required library\n",
    "import pandas as pd\n",
    "!pip install selenium\n",
    "import selenium\n",
    "from selenium import webdriver\n",
    "import time\n",
    "from selenium.common.exceptions import NoSuchElementException\n",
    "from selenium.common.exceptions import ElementClickInterceptedException"
   ]
  },
  {
   "cell_type": "code",
   "execution_count": 59,
   "metadata": {},
   "outputs": [],
   "source": [
    "driver=webdriver.Chrome(\"chromedriver.exe\") \n",
    "time.sleep(2)"
   ]
  },
  {
   "cell_type": "code",
   "execution_count": 3,
   "metadata": {},
   "outputs": [],
   "source": [
    "driver.get('https://www.cardekho.com/buy-used-cars+in+bangalore?utm_campaign=SER-Brand-Exact-Bangalore&utm_device=c&utm_term=cardekho&network=g&utm_medium=cpc&utm_source=google&agid=123379200648&ap=&aoi=&ci=12342611455&cre=498597941881&fid=177590456342&lop=1007768&ma=e&mo=&pl=&ti=kwd-296788571889&gclid=Cj0KCQjw-4SLBhCVARIsACrhWLW17UXBJEX3RKcp1BL6gBC5JoMl1Tb6-f9De6ApvLSJKlYuh_UZsSsaAsVSEALw_wcB')\n",
    "time.sleep(3)"
   ]
  },
  {
   "cell_type": "code",
   "execution_count": 96,
   "metadata": {},
   "outputs": [],
   "source": [
    "#creating empty list\n",
    "Car_DB = { }\n",
    "\n",
    "Car_DB['Brand']=[]\n",
    "Car_DB['Engine']=[]\n",
    "Car_DB['Gear']=[]\n",
    "Car_DB['KiloMeter']=[]\n",
    "Car_DB['Owner']=[]\n",
    "Car_DB['Fuel']=[]\n",
    "Car_DB['Price']=[]\n",
    "Car_DB['Variant'] =[]\n",
    "Car_DB['Seats'] =[]\n",
    "Car_DB['Torque'] =[]\n",
    "Car_DB['Mileage'] =[]\n",
    "Car_DB['Max_Power'] =[]\n",
    "Car_DB['Color']=[]\n",
    "Car_DB['Reg_year']=[]\n",
    "Car_DB['Insurance']=[]"
   ]
  },
  {
   "cell_type": "code",
   "execution_count": 97,
   "metadata": {},
   "outputs": [],
   "source": [
    "urls= [ ]"
   ]
  },
  {
   "cell_type": "code",
   "execution_count": 108,
   "metadata": {},
   "outputs": [],
   "source": [
    "#Scraping the All the URLS first\n",
    "\n",
    "from selenium.webdriver.common.keys import Keys\n",
    "\n",
    "driver.get('https://www.cardekho.com/used-cars+in+hyderabad')\n",
    "element = driver.find_element_by_tag_name('body')\n",
    "\n",
    "while True:\n",
    "    for i in driver.find_elements_by_xpath(\"/html/body/div/div/div/div/div/main/div/div/div/div/div/div/div/div/a\"):\n",
    "  \n",
    "        urls.append(i.get_attribute('href'))\n",
    "    try:\n",
    "        element.send_keys(Keys.PAGE_DOWN)\n",
    "        time.sleep(3)\n",
    "    except: \n",
    "        break\n",
    " \n"
   ]
  },
  {
   "cell_type": "code",
   "execution_count": 81,
   "metadata": {},
   "outputs": [],
   "source": [
    "#Removing duplicate URL links form list \n",
    "links = []\n",
    "for i in urls:\n",
    "    if i not in links:\n",
    "        links.append(i)"
   ]
  },
  {
   "cell_type": "code",
   "execution_count": 100,
   "metadata": {},
   "outputs": [
    {
     "data": {
      "text/plain": [
       "639"
      ]
     },
     "execution_count": 100,
     "metadata": {},
     "output_type": "execute_result"
    }
   ],
   "source": [
    "len(links)"
   ]
  },
  {
   "cell_type": "code",
   "execution_count": null,
   "metadata": {},
   "outputs": [],
   "source": [
    "len(urls)"
   ]
  },
  {
   "cell_type": "code",
   "execution_count": 102,
   "metadata": {},
   "outputs": [],
   "source": [
    "for u in links:\n",
    "    driver.get(u)\n",
    "    time.sleep(3)\n",
    "\n",
    "    try:\n",
    "        title =driver.find_element_by_xpath(\"//*[@id='rf01']/div[1]/div/div/main/div/div/div[2]/div[1]/div/div/div/div[1]/div[1]/h1\")\n",
    "        Car_DB['Brand'].append(title.text) \n",
    "    except:\n",
    "        Car_DB['Brand'].append('Not available')\n",
    "        \n",
    "    try:\n",
    "        v_name =driver.find_element_by_xpath('//*[@id=\"rf01\"]/div[1]/div/div/main/div/div/div[2]/div[1]/div/div/div/div[1]/div[1]/div')\n",
    "        Car_DB['Variant'].append(v_name.text)\n",
    "    except:\n",
    "         Car_DB['Variant'].append('Not available')\n",
    "            \n",
    "    try:\n",
    "        price =driver.find_element_by_xpath(\"//*[@id='rf01']/div[1]/div/div/main/div/div/div[2]/div[1]/div/div/div/div[1]/div[2]/div/div[1]/span[2]\")\n",
    "        Car_DB['Price'].append(price.text)\n",
    "    except:\n",
    "         Car_DB['Price'].append('Not available')\n",
    "            \n",
    "    try:\n",
    "        dis =driver.find_element_by_xpath(\"//*[@id='rf01']/div[1]/div/div/main/div/div/div[1]/div[3]/div/div/div/ul/li[5]/div/div[2]\")\n",
    "        Car_DB['Engine'].append(dis.text)\n",
    "    except:\n",
    "         Car_DB['Engine'].append('Not available')\n",
    "            \n",
    "            \n",
    "    try:\n",
    "        kilo =driver.find_element_by_xpath(\"//*[@id='rf01']/div[1]/div/div/main/div/div/div[1]/div[3]/div/div/div/ul/li[4]/div/div[2]\")\n",
    "        Car_DB['KiloMeter'].append(kilo.text)\n",
    "    except:\n",
    "         Car_DB['KiloMeter'].append('Not available')\n",
    "    \n",
    "    try:\n",
    "        trans =driver.find_element_by_xpath(\"//*[@id='rf01']/div[1]/div/div/main/div/div/div[1]/div[3]/div/div/div/ul/li[8]/div/div[2]\")\n",
    "        Car_DB['Gear'].append(trans.text)\n",
    "    except:\n",
    "         Car_DB['Gear'].append('Not available')\n",
    "            \n",
    "    try:\n",
    "        O=driver.find_element_by_xpath(\"//*[@id='rf01']/div[1]/div/div/main/div/div/div[1]/div[3]/div/div/div/ul/li[6]/div\")\n",
    "        Car_DB['Owner'].append(O.text)\n",
    "    except:\n",
    "         Car_DB['Owner'].append('Not available')\n",
    "            \n",
    "            \n",
    "    try:\n",
    "        F=driver.find_element_by_xpath(\"//*[@id='rf01']/div[1]/div/div/main/div/div/div[1]/div[3]/div/div/div/ul/li[3]/div/div[2]\")\n",
    "        Car_DB['Fuel'].append(F.text)\n",
    "    except:\n",
    "         Car_DB['Fuel'].append('Not available')\n",
    "            \n",
    "            \n",
    "    try:\n",
    "        reg=driver.find_element_by_xpath(\"//*[@id='rf01']/div[1]/div/div/main/div/div/div[1]/div[3]/div/div/div/ul/li[2]/div/div[2]\")\n",
    "        Car_DB['Reg_year'].append(reg.text)\n",
    "    except:\n",
    "         Car_DB['Reg_year'].append('Not available')\n",
    "            \n",
    "            \n",
    "    try:\n",
    "        power=driver.find_element_by_xpath('//*[@id=\"specification-wdght\"]/div/div/div/ul/li[3]/div/div[2]')\n",
    "        Car_DB['Max_Power'].append(power.text)\n",
    "    except:\n",
    "         Car_DB['Max_Power'].append('Not available')\n",
    "            \n",
    "    try:\n",
    "        mil=driver.find_element_by_xpath('//*[@id=\"specification-wdght\"]/div/div/div/ul/li[1]/div/div[2]')\n",
    "        Car_DB['Mileage'].append(mil.text)\n",
    "    except:\n",
    "         Car_DB['Mileage'].append('Not available')\n",
    "            \n",
    "    try:\n",
    "        seat=driver.find_element_by_xpath('//*[@id=\"specification-wdght\"]/div/div/div/ul/li[5]/div/div[2]')\n",
    "        Car_DB['Seats'].append(seat.text)\n",
    "    except:\n",
    "         Car_DB['Seats'].append('Not available')\n",
    "            \n",
    "            \n",
    "    try:\n",
    "        tor=driver.find_element_by_xpath('//*[@id=\"specification-wdght\"]/div/div/div/ul/li[4]/div/div[2]')\n",
    "        Car_DB['Torque'].append(tor.text)\n",
    "    except:\n",
    "         Car_DB['Torque'].append('Not available')\n",
    "            \n",
    "    try:\n",
    "        colr=driver.find_element_by_xpath('//*[@id=\"specification-wdght\"]/div/div/div/ul/li[6]/div/div[2]')\n",
    "        Car_DB['Color'].append(colr.text)\n",
    "    except:\n",
    "         Car_DB['Color'].append('Not available')\n",
    "            \n",
    "    try:\n",
    "        ins=driver.find_element_by_xpath('//*[@id=\"rf01\"]/div[1]/div/div/main/div/div/div[1]/div[3]/div/div/div/ul/li[9]/div/div[2]')\n",
    "        Car_DB['Insurance'].append(ins.text)\n",
    "    except:\n",
    "         Car_DB['Insurance'].append('Not available')\n",
    "    \n",
    "    \n",
    "  "
   ]
  },
  {
   "cell_type": "code",
   "execution_count": 109,
   "metadata": {},
   "outputs": [],
   "source": [
    "Car_DB =pd.DataFrame(Car_DB)\n",
    "\n",
    "Car_DB.to_csv(\"Car_DB_hydrabad.csv\")"
   ]
  },
  {
   "cell_type": "code",
   "execution_count": null,
   "metadata": {},
   "outputs": [],
   "source": []
  },
  {
   "cell_type": "code",
   "execution_count": 103,
   "metadata": {},
   "outputs": [
    {
     "name": "stdout",
     "output_type": "stream",
     "text": [
      "1296 1296 1296 1296 1296\n"
     ]
    }
   ],
   "source": [
    "print(len(Car_DB['Brand']),len(Car_DB['Engine']),len(Car_DB['Gear']),len(Car_DB['KiloMeter']),len(Car_DB['Owner']))\n"
   ]
  },
  {
   "cell_type": "code",
   "execution_count": 104,
   "metadata": {},
   "outputs": [
    {
     "name": "stdout",
     "output_type": "stream",
     "text": [
      "1296 1296 1296\n"
     ]
    }
   ],
   "source": [
    "print(len(Car_DB['Fuel']),len(Car_DB['Price']),len(Car_DB['Variant']))\n"
   ]
  },
  {
   "cell_type": "code",
   "execution_count": 105,
   "metadata": {},
   "outputs": [
    {
     "name": "stdout",
     "output_type": "stream",
     "text": [
      "648 1296 1296 1296 1296\n",
      "1296 1296\n"
     ]
    }
   ],
   "source": [
    "print(len(Car_DB['Seats']),len(Car_DB['Torque']),len(Car_DB['Mileage']),len(Car_DB['Max_Power']),len(Car_DB['Color']))\n",
    "print(len(Car_DB['Reg_year']),len(Car_DB['Insurance']))"
   ]
  },
  {
   "cell_type": "code",
   "execution_count": 106,
   "metadata": {},
   "outputs": [],
   "source": []
  },
  {
   "cell_type": "code",
   "execution_count": null,
   "metadata": {},
   "outputs": [],
   "source": []
  }
 ],
 "metadata": {
  "kernelspec": {
   "display_name": "Python 3",
   "language": "python",
   "name": "python3"
  },
  "language_info": {
   "codemirror_mode": {
    "name": "ipython",
    "version": 3
   },
   "file_extension": ".py",
   "mimetype": "text/x-python",
   "name": "python",
   "nbconvert_exporter": "python",
   "pygments_lexer": "ipython3",
   "version": "3.7.3"
  }
 },
 "nbformat": 4,
 "nbformat_minor": 2
}
